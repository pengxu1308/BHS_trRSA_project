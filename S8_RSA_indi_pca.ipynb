{
 "cells": [
  {
   "cell_type": "markdown",
   "id": "365b351f",
   "metadata": {},
   "source": [
    "# Final version of indi RSA"
   ]
  },
  {
   "cell_type": "markdown",
   "id": "50a26a4f",
   "metadata": {},
   "source": [
    "# Trail by trail RDM construction with PCA"
   ]
  },
  {
   "cell_type": "code",
   "execution_count": 1,
   "id": "bac3499a",
   "metadata": {},
   "outputs": [
    {
     "name": "stderr",
     "output_type": "stream",
     "text": [
      "/var/folders/qn/m3f3dhd10sd5t6_dbhwf4g8w0000gn/T/ipykernel_65285/2092502845.py:13: RuntimeWarning: At least one epoch has multiple events. Only the latency of the first event will be retained.\n",
      "  epochs = mne.read_epochs_eeglab(set_path, verbose=False)\n"
     ]
    },
    {
     "name": "stdout",
     "output_type": "stream",
     "text": [
      "✅ 成功載入 epochs：<EpochsEEGLAB | 211 events (all good), -2 – 1.496 s (baseline off), ~90.2 MB, data loaded,\n",
      " '99/Right_correct_0/11/21': 2\n",
      " '102/99/Right_incorrect_0/10/20': 4\n",
      " '101/99/Right_correct_1/11/21/101': 1\n",
      " '11/21/101/99/Left_incorrect_0/10/21/100': 1\n",
      " '13/21/102/99/Right_correct_1/11/21/101': 1\n",
      " '100/99/Left_correct_0/11/20': 14\n",
      " '11/20/100/99/Right_correct_0/11/21': 1\n",
      " '101/99/Left_correct_0/11/20': 8\n",
      " '100/99/Right_incorrect_0/10/20': 6\n",
      " '100/99/Right_correct_0/11/21': 10\n",
      " and 73 more events ...>\n",
      "✅ 有效條件的 trial 數：\n",
      "Right_correct_0: 37 trials\n",
      "Right_incorrect_0: 27 trials\n",
      "Right_correct_1: 39 trials\n",
      "Left_incorrect_0: 19 trials\n",
      "Left_correct_0: 56 trials\n",
      "Left_correct_1: 31 trials\n",
      "Right_correct_2: 2 trials\n"
     ]
    },
    {
     "name": "stderr",
     "output_type": "stream",
     "text": [
      "Time bins: 100%|██████████| 864/864 [00:29<00:00, 29.06it/s]"
     ]
    },
    {
     "name": "stdout",
     "output_type": "stream",
     "text": [
      "每個 time bin 保留的 PCA 維度（主成分數）：\n",
      "[85, 85, 85, 85, 85, 85, 85, 84, 84, 84, 84, 85, 85, 85, 86, 86, 87, 88, 88, 88, 88, 88, 89, 89, 88, 88, 89, 89, 88, 89, 89, 89, 90, 90, 90, 90, 91, 90, 91, 90, 90, 91, 91, 91, 91, 92, 92, 92, 93, 93, 93, 94, 94, 94, 94, 94, 94, 94, 94, 95, 94, 95, 95, 95, 95, 95, 95, 95, 96, 96, 96, 96, 97, 96, 96, 97, 97, 97, 98, 97, 98, 98, 98, 98, 98, 98, 98, 98, 98, 98, 98, 98, 97, 98, 98, 98, 98, 98, 98, 98, 98, 98, 99, 99, 99, 100, 100, 100, 100, 100, 100, 100, 100, 100, 100, 100, 100, 101, 101, 102, 102, 102, 102, 102, 102, 102, 102, 103, 103, 103, 103, 103, 103, 103, 103, 103, 103, 104, 104, 104, 104, 104, 104, 105, 105, 106, 106, 106, 106, 107, 107, 107, 107, 108, 108, 108, 108, 109, 109, 109, 109, 109, 110, 110, 110, 110, 111, 111, 112, 112, 113, 113, 114, 114, 114, 114, 114, 114, 114, 113, 114, 114, 114, 114, 114, 114, 114, 115, 115, 115, 116, 116, 116, 117, 117, 117, 118, 118, 118, 118, 118, 118, 118, 118, 119, 119, 119, 119, 119, 119, 119, 120, 120, 120, 120, 120, 120, 120, 120, 120, 120, 120, 119, 119, 119, 119, 119, 119, 119, 119, 119, 119, 119, 120, 120, 120, 120, 120, 120, 119, 120, 119, 120, 120, 120, 120, 120, 120, 119, 119, 120, 120, 120, 120, 120, 120, 120, 120, 120, 120, 120, 120, 120, 120, 120, 121, 121, 120, 121, 121, 121, 120, 121, 120, 121, 120, 120, 120, 120, 120, 120, 120, 120, 120, 119, 119, 119, 119, 119, 120, 120, 120, 120, 120, 121, 121, 121, 121, 121, 121, 121, 121, 121, 121, 121, 121, 121, 121, 121, 122, 122, 122, 122, 123, 123, 123, 123, 123, 123, 123, 123, 123, 123, 124, 124, 124, 123, 123, 123, 123, 123, 123, 123, 123, 123, 124, 124, 124, 124, 124, 124, 124, 124, 124, 124, 124, 124, 125, 125, 125, 125, 125, 125, 125, 125, 125, 125, 125, 125, 125, 125, 125, 124, 124, 124, 123, 123, 123, 123, 123, 123, 123, 123, 123, 124, 124, 124, 123, 124, 124, 124, 124, 124, 124, 123, 123, 123, 123, 124, 123, 123, 123, 123, 124, 123, 123, 124, 124, 124, 124, 124, 124, 124, 124, 124, 124, 124, 124, 124, 124, 125, 125, 125, 125, 125, 125, 125, 125, 126, 125, 125, 125, 124, 124, 125, 125, 126, 125, 125, 126, 126, 126, 126, 126, 126, 126, 125, 126, 126, 126, 127, 127, 127, 127, 128, 127, 127, 127, 128, 128, 128, 128, 129, 128, 128, 128, 128, 128, 129, 130, 129, 129, 129, 129, 129, 129, 128, 128, 128, 128, 128, 128, 128, 128, 128, 128, 128, 128, 128, 128, 127, 127, 128, 128, 128, 128, 128, 128, 128, 128, 128, 128, 128, 129, 128, 128, 128, 128, 128, 128, 128, 128, 129, 129, 129, 129, 128, 129, 129, 129, 129, 129, 129, 129, 129, 129, 129, 129, 129, 128, 129, 129, 129, 128, 128, 128, 128, 128, 128, 128, 128, 128, 128, 128, 129, 129, 129, 129, 130, 130, 130, 130, 130, 130, 130, 130, 130, 130, 129, 129, 130, 129, 129, 129, 129, 130, 130, 130, 130, 129, 129, 129, 129, 129, 129, 129, 129, 129, 129, 129, 129, 129, 129, 129, 129, 129, 129, 129, 129, 129, 128, 129, 128, 128, 128, 129, 128, 129, 128, 128, 128, 128, 128, 128, 128, 128, 128, 128, 128, 127, 127, 127, 128, 128, 128, 128, 128, 128, 127, 127, 127, 127, 127, 127, 126, 125, 125, 125, 125, 125, 124, 124, 124, 124, 123, 123, 123, 123, 123, 122, 122, 121, 121, 121, 121, 121, 121, 121, 121, 121, 121, 121, 121, 122, 122, 122, 122, 121, 121, 121, 121, 121, 121, 122, 122, 121, 121, 121, 121, 121, 121, 121, 120, 120, 120, 120, 119, 119, 118, 117, 116, 116, 115, 114, 113, 112, 111, 109, 108, 107, 106, 105, 105, 104, 103, 102, 101, 100, 99, 98, 97, 96, 95, 94, 94, 94, 93, 93, 92, 91, 91, 90, 90, 89, 89, 88, 88, 87, 87, 87, 86, 86, 86, 85, 85, 85, 85, 84, 84, 84, 84, 84, 84, 84, 84, 84, 84, 84, 84, 84, 84, 84, 84, 84, 84, 84, 84, 84, 84, 84, 84, 84, 84, 84, 85, 85, 86, 86, 86, 86, 87, 87, 87, 88, 88, 89, 89, 89, 90, 90, 91, 91, 91, 92, 92, 93, 93, 94, 95, 95, 96, 96, 97, 97, 97, 97, 98, 98, 99, 99, 99, 99, 100, 100, 100, 101, 101, 102, 102, 102, 102, 103, 102, 103, 103, 103, 104, 104, 104, 104, 104, 104, 104, 105, 106, 106, 106, 106, 107, 107, 106, 106, 107, 107, 107, 107, 107, 107, 107, 107, 107, 107, 107, 107, 107, 108, 108, 108, 108, 108, 109, 109, 109, 110, 111, 111, 111, 111, 112, 112, 112, 112, 112, 113, 113, 113, 113, 113, 113, 114, 114, 115, 115, 115, 115, 115, 116, 116, 116, 117, 117, 117, 117, 117]\n",
      "✅ Trial-wise RDM（PCA降維）計算完成！\n"
     ]
    },
    {
     "name": "stderr",
     "output_type": "stream",
     "text": [
      "\n"
     ]
    }
   ],
   "source": [
    "# === Step-by-Step: 建立 Neural RDM 的完整 Pipeline with PCA ===\n",
    "import mne\n",
    "import numpy as np\n",
    "import re\n",
    "from collections import Counter\n",
    "from tqdm import tqdm\n",
    "import matplotlib.pyplot as plt\n",
    "from sklearn.decomposition import PCA\n",
    "from scipy.stats import spearmanr\n",
    "\n",
    "# Step 1: 讀取 EEG .set 檔案\n",
    "set_path = \"preproc/S8_ica_ADJUST.set\"\n",
    "epochs = mne.read_epochs_eeglab(set_path, verbose=False)\n",
    "print(f\"✅ 成功載入 epochs：{epochs}\")\n",
    "\n",
    "# Step 2: 擷取條件 labels\n",
    "def extract_condition_label(label):\n",
    "    match = re.search(r'(Left|Right)_(correct|incorrect)_\\d', label)\n",
    "    if match:\n",
    "        return match.group(0)\n",
    "    else:\n",
    "        print(f\"[⚠️警告] 無法擷取條件：{label}\")\n",
    "        return 'INVALID'\n",
    "\n",
    "event_id_rev = {v: k for k, v in epochs.event_id.items()}\n",
    "event_codes = epochs.events[:, 2]\n",
    "full_labels = [event_id_rev[code] for code in event_codes]\n",
    "labels = np.array([extract_condition_label(label) for label in full_labels])\n",
    "\n",
    "# 統計有效 label 數量\n",
    "label_counts = Counter(labels)\n",
    "print(\"✅ 有效條件的 trial 數：\")\n",
    "for label, count in label_counts.items():\n",
    "    if label != 'INVALID':\n",
    "        print(f\"{label}: {count} trials\")\n",
    "\n",
    "# 過濾 INVALID trial\n",
    "valid_mask = labels != 'INVALID'\n",
    "data = epochs.get_data()[valid_mask]\n",
    "labels = labels[valid_mask]\n",
    "times = epochs.times\n",
    "sfreq = epochs.info['sfreq']\n",
    "\n",
    "# Step 3: Trial-wise Neural RDM + PCA降維（保留 99% 變異）\n",
    "def compute_trialwise_rdms_with_pca(data, times, sfreq, bin_ms=50, explained_var=0.99):\n",
    "    bin_samples = int(sfreq * bin_ms / 1000)\n",
    "    n_times = data.shape[2]\n",
    "    n_bins = n_times - bin_samples + 1\n",
    "\n",
    "    final_rdms = []\n",
    "    time_centers = []\n",
    "    n_components_all = []\n",
    "\n",
    "    for start in tqdm(range(n_bins), desc=\"Time bins\"):\n",
    "        end = start + bin_samples\n",
    "        X = data[:, :, start:end].reshape(len(data), -1)  # trial × feature\n",
    "\n",
    "        # --- PCA 降維 ---\n",
    "        pca = PCA()\n",
    "        X_pca = pca.fit_transform(X)\n",
    "        # 計算需要幾個主成分能保留足夠變異\n",
    "        n_components = np.argmax(np.cumsum(pca.explained_variance_ratio_) >= explained_var) + 1\n",
    "        X_pca = X_pca[:, :n_components]\n",
    "        n_components_all.append(n_components)\n",
    "\n",
    "        if X_pca.shape[0] < 2:\n",
    "            continue\n",
    "\n",
    "        rdm = 1 - np.corrcoef(X_pca)\n",
    "        final_rdms.append(rdm)\n",
    "        time_centers.append(times[start:end].mean())\n",
    "\n",
    "    print(f\"每個 time bin 保留的 PCA 維度（主成分數）：\")\n",
    "    print(n_components_all)\n",
    "    return np.stack(final_rdms), np.array(time_centers), np.array(n_components_all)\n",
    "\n",
    "# Step 4: 執行計算\n",
    "rdms_trialwise_pca, time_centers_trialwise, n_components_all = compute_trialwise_rdms_with_pca(\n",
    "    data, times, sfreq, bin_ms=50, explained_var=0.99\n",
    ")\n",
    "print(\"✅ Trial-wise RDM（PCA降維）計算完成！\")"
   ]
  },
  {
   "cell_type": "code",
   "execution_count": 2,
   "id": "1522e40b",
   "metadata": {},
   "outputs": [
    {
     "data": {
      "application/vnd.jupyter.widget-view+json": {
       "model_id": "da871fc95a564d788af5e9abb3c37c12",
       "version_major": 2,
       "version_minor": 0
      },
      "text/plain": [
       "interactive(children=(FloatSlider(value=-1.978, continuous_update=False, description='Time (s)', max=1.474, mi…"
      ]
     },
     "metadata": {},
     "output_type": "display_data"
    },
    {
     "name": "stdout",
     "output_type": "stream",
     "text": [
      "✅ 完成所有步驟，包括可視化（滑桿版）！\n"
     ]
    }
   ],
   "source": [
    "import plotly.graph_objects as go\n",
    "import ipywidgets as widgets\n",
    "import numpy as np\n",
    "\n",
    "def plot_interactive_trial_rdm(rdms, time_centers):\n",
    "    \"\"\"\n",
    "    使用 ipywidgets + plotly 視覺化 trial-wise RDM，並以滑桿選擇時間點。\n",
    "\n",
    "    Parameters:\n",
    "    - rdms: ndarray, shape = [n_time_bins, n_trials, n_trials]\n",
    "    - time_centers: ndarray, shape = [n_time_bins]\n",
    "    \"\"\"\n",
    "    zero_locked_times = time_centers - 0  # 若你希望是相對於事件的 0 s，可做進一步調整\n",
    "\n",
    "    # 設定滑桿（單位：秒）\n",
    "    slider = widgets.FloatSlider(\n",
    "        value=zero_locked_times[0],\n",
    "        min=zero_locked_times.min(),\n",
    "        max=zero_locked_times.max(),\n",
    "        step=0.050,  # 每格 50ms\n",
    "        description='Time (s)',\n",
    "        continuous_update=False,\n",
    "        readout_format='.3f'\n",
    "    )\n",
    "\n",
    "    def plot_rdm(selected_time):\n",
    "        # 找出最接近該時間點的 index\n",
    "        idx = np.argmin(np.abs(zero_locked_times - selected_time))\n",
    "        rdm = rdms[idx]\n",
    "        fig = go.Figure(data=go.Heatmap(\n",
    "            z=rdm,\n",
    "            x=[f\"trial_{i}\" for i in range(rdm.shape[0])],\n",
    "            y=[f\"trial_{i}\" for i in range(rdm.shape[0])],\n",
    "            zmin=0, zmax=2,\n",
    "            colorscale='Viridis',\n",
    "            colorbar=dict(title='1 - r')\n",
    "        ))\n",
    "        fig.update_layout(\n",
    "            title=f\"Trial-wise Neural RDM at {zero_locked_times[idx]*1000:.0f} ms (relative to event)\",\n",
    "            xaxis_title=\"Trial Index\",\n",
    "            yaxis_title=\"Trial Index\",\n",
    "            width=650,\n",
    "            height=650\n",
    "        )\n",
    "        fig.show()\n",
    "\n",
    "    widgets.interact(plot_rdm, selected_time=slider)\n",
    "\n",
    "# ✅ 呼叫並可視化 PCA 降維後的 RDM 結果\n",
    "plot_interactive_trial_rdm(rdms_trialwise_pca, time_centers_trialwise)\n",
    "print(\"✅ 完成所有步驟，包括可視化（滑桿版）！\")"
   ]
  },
  {
   "cell_type": "markdown",
   "id": "4c4267ec",
   "metadata": {},
   "source": [
    "# Construct Behavioural RDMs"
   ]
  },
  {
   "cell_type": "code",
   "execution_count": 3,
   "id": "9f6ffcdf",
   "metadata": {},
   "outputs": [
    {
     "name": "stdout",
     "output_type": "stream",
     "text": [
      "✅ 已成功建立行為層次的 RDMs！\n"
     ]
    }
   ],
   "source": [
    "def extract_behavioral_attributes(labels):\n",
    "    \"\"\"從原始條件標籤中提取 correctness, clarity, hemifield 三個行為變項\"\"\"\n",
    "    correctness = []\n",
    "    clarity = []\n",
    "    hemifield = []\n",
    "\n",
    "    for label in labels:\n",
    "        # correctness: correct / incorrect\n",
    "        if 'incorrect' in label:\n",
    "            correctness.append(0)  # correct >> incorrent\n",
    "        elif 'correct' in label:\n",
    "            correctness.append(1)  # incorrect >> correct\n",
    "        else:\n",
    "            raise ValueError(f\"無法判別 correctness: {label}\")\n",
    "\n",
    "        # clarity: 最後的數字\n",
    "        match = re.search(r'_(\\d)$', label)\n",
    "        if match:\n",
    "            clarity.append(int(match.group(1)))\n",
    "        else:\n",
    "            raise ValueError(f\"無法擷取 clarity: {label}\")\n",
    "\n",
    "        # hemifield: Left / Right\n",
    "        if 'Left' in label:\n",
    "            hemifield.append(0)  # Left\n",
    "        elif 'Right' in label:\n",
    "            hemifield.append(1)  # Right\n",
    "        else:\n",
    "            raise ValueError(f\"無法判別 hemifield: {label}\")\n",
    "\n",
    "    return np.array(correctness), np.array(clarity), np.array(hemifield)\n",
    "\n",
    "def compute_behavior_rdm(values):\n",
    "    \"\"\"計算行為變項的 Representational Dissimilarity Matrix (RDM)，使用歐式距離\"\"\"\n",
    "    return np.abs(values[:, None] - values[None, :])  # pairwise distance\n",
    "\n",
    "# === 使用方式 ===\n",
    "correctness_vec, clarity_vec, hemifield_vec = extract_behavioral_attributes(labels)\n",
    "\n",
    "rdm_correctness = compute_behavior_rdm(correctness_vec)\n",
    "rdm_clarity     = compute_behavior_rdm(clarity_vec)\n",
    "rdm_hemifield   = compute_behavior_rdm(hemifield_vec)\n",
    "\n",
    "print(\"✅ 已成功建立行為層次的 RDMs！\")"
   ]
  },
  {
   "cell_type": "code",
   "execution_count": 4,
   "id": "97689de7",
   "metadata": {},
   "outputs": [
    {
     "data": {
      "application/vnd.jupyter.widget-view+json": {
       "model_id": "d5d37454d2f84d229ca475eefeec9f0d",
       "version_major": 2,
       "version_minor": 0
      },
      "text/plain": [
       "interactive(children=(Dropdown(description='Select RDM:', options=('Correctness (0=incorrect, 1=correct)', 'Cl…"
      ]
     },
     "metadata": {},
     "output_type": "display_data"
    },
    {
     "data": {
      "text/plain": [
       "<function __main__.plot_behavior_rdm(rdm_name)>"
      ]
     },
     "execution_count": 4,
     "metadata": {},
     "output_type": "execute_result"
    }
   ],
   "source": [
    "import plotly.graph_objs as go\n",
    "import ipywidgets as widgets\n",
    "from IPython.display import display\n",
    "\n",
    "# === 行為 RDMs 包裝成字典 ===\n",
    "behavior_rdms = {\n",
    "    \"Correctness (0=incorrect, 1=correct)\": rdm_correctness,\n",
    "    \"Clarity (0~3 levels)\": rdm_clarity,\n",
    "    \"Hemifield (0=Left, 1=Right)\": rdm_hemifield\n",
    "}\n",
    "\n",
    "def plot_behavior_rdm(rdm_name):\n",
    "    rdm = behavior_rdms[rdm_name]\n",
    "    fig = go.Figure(data=go.Heatmap(\n",
    "        z=rdm,\n",
    "        colorscale='Viridis',\n",
    "        colorbar=dict(title=\"Dissimilarity\")\n",
    "    ))\n",
    "\n",
    "    fig.update_layout(\n",
    "        title=f\"{rdm_name} - Behavioral RDM\",\n",
    "        xaxis=dict(title=\"Trial Index\"),\n",
    "        yaxis=dict(title=\"Trial Index\"),\n",
    "        width=600,\n",
    "        height=500\n",
    "    )\n",
    "    fig.show()\n",
    "\n",
    "# 下拉式選單\n",
    "dropdown = widgets.Dropdown(\n",
    "    options=list(behavior_rdms.keys()),\n",
    "    value=list(behavior_rdms.keys())[0],  # 預設顯示第一個\n",
    "    description=\"Select RDM:\"\n",
    ")\n",
    "\n",
    "# 啟用互動式圖表\n",
    "widgets.interact(plot_behavior_rdm, rdm_name=dropdown)"
   ]
  },
  {
   "cell_type": "markdown",
   "id": "da77fb36",
   "metadata": {},
   "source": [
    "# Time-resolved RSA"
   ]
  },
  {
   "cell_type": "markdown",
   "id": "d50d299e",
   "metadata": {},
   "source": [
    "## RSA after PCA"
   ]
  },
  {
   "cell_type": "code",
   "execution_count": 5,
   "id": "02e588b3",
   "metadata": {},
   "outputs": [
    {
     "data": {
      "image/png": "[encoded data removed]",
      "text/plain": [
       "<Figure size 1200x500 with 1 Axes>"
      ]
     },
     "metadata": {},
     "output_type": "display_data"
    }
   ],
   "source": [
    "import numpy as np\n",
    "import matplotlib.pyplot as plt\n",
    "from scipy.stats import spearmanr\n",
    "\n",
    "def compute_rsa_timecourse(neural_rdms, behavioral_rdm):\n",
    "    \"\"\"計算 RSA 分數（Spearman correlation）時間序列\"\"\"\n",
    "    rsa_scores = []\n",
    "    for neural_rdm in neural_rdms:\n",
    "        # 將上三角攤平成向量（避免重複 & 排除對角線）\n",
    "        i_upper = np.triu_indices_from(neural_rdm, k=1)\n",
    "        neural_vec = neural_rdm[i_upper]\n",
    "        behavior_vec = behavioral_rdm[i_upper]\n",
    "        r, _ = spearmanr(neural_vec, behavior_vec)\n",
    "        rsa_scores.append(r)\n",
    "    return np.array(rsa_scores)\n",
    "\n",
    "# === 將你的變數指派進來（請替換成你自己的）===\n",
    "# 這些變數應已存在：\n",
    "# rdms_avg → neural RDMs, shape (n_bins, n_cond, n_cond)\n",
    "# rdm_correctness, rdm_clarity, rdm_hemifield → 你的行為 RDMs, shape (n_cond, n_cond)\n",
    "# time_centers_avg → 對應的時間（長度為 n_bins）\n",
    "\n",
    "rsa_correctness = compute_rsa_timecourse(rdms_trialwise_pca, rdm_correctness)\n",
    "rsa_clarity = compute_rsa_timecourse(rdms_trialwise_pca, rdm_clarity)\n",
    "rsa_hemifield = compute_rsa_timecourse(rdms_trialwise_pca, rdm_hemifield)\n",
    "\n",
    "# === 繪圖展示 ===\n",
    "plt.figure(figsize=(12, 5))\n",
    "plt.plot(time_centers_trialwise * 1000, rsa_correctness, label='Correctness', linewidth=2)\n",
    "plt.plot(time_centers_trialwise * 1000, rsa_clarity, label='Clarity', linewidth=2)\n",
    "plt.plot(time_centers_trialwise * 1000, rsa_hemifield, label='Hemifield', linewidth=2)\n",
    "\n",
    "plt.axhline(0, color='gray', linestyle='--')\n",
    "plt.xlabel('Time (ms)')\n",
    "plt.ylabel('RSA Score (Spearman r)')\n",
    "plt.title('Time-Resolved RSA: Behavioral vs. Neural RDMs')\n",
    "plt.legend()\n",
    "plt.grid(True)\n",
    "plt.tight_layout()\n",
    "plt.show()"
   ]
  },
  {
   "cell_type": "code",
   "execution_count": 6,
   "id": "680f2c88",
   "metadata": {},
   "outputs": [
    {
     "data": {
      "application/vnd.jupyter.widget-view+json": {
       "model_id": "441b6ac2aeda4e979e96a15120708564",
       "version_major": 2,
       "version_minor": 0
      },
      "text/plain": [
       "interactive(children=(Dropdown(description='Behavior RDM:', options=('Correctness', 'Clarity', 'Hemifield'), v…"
      ]
     },
     "metadata": {},
     "output_type": "display_data"
    },
    {
     "name": "stdout",
     "output_type": "stream",
     "text": [
      "✅ 完成 RSA 分析與互動式可視化整合！\n"
     ]
    }
   ],
   "source": [
    "# === Step 6: 互動式視覺化+PCA ===\n",
    "def plot_interactive_rsa_comparison(time_points, rsa_dict):\n",
    "    dropdown = widgets.Dropdown(\n",
    "        options=list(rsa_dict.keys()),\n",
    "        value=list(rsa_dict.keys())[0],\n",
    "        description='Behavior RDM:'\n",
    "    )\n",
    "\n",
    "    def update_plot(rdm_name):\n",
    "        rsa = rsa_dict[rdm_name]\n",
    "        fig = go.Figure()\n",
    "        fig.add_trace(go.Scatter(x=time_points, y=rsa, mode='lines+markers', name='RSA'))\n",
    "        fig.update_layout(title=f\"RSA(PCA) Timecourse for {rdm_name}\",\n",
    "                          xaxis_title=\"Time (s)\",\n",
    "                          yaxis_title=\"RSA (Spearman correlation)\",\n",
    "                          height=400)\n",
    "        fig.show()\n",
    "\n",
    "    widgets.interact(update_plot, rdm_name=dropdown)\n",
    "\n",
    "plot_interactive_rsa_comparison(\n",
    "    time_points=time_centers_trialwise,\n",
    "    rsa_dict={\n",
    "        \"Correctness\": rsa_correctness,\n",
    "        \"Clarity\": rsa_clarity,\n",
    "        \"Hemifield\": rsa_hemifield\n",
    "    }\n",
    ")\n",
    "\n",
    "print(\"\\u2705 完成 RSA 分析與互動式可視化整合！\")"
   ]
  },
  {
   "cell_type": "markdown",
   "id": "536313ac",
   "metadata": {},
   "source": [
    "## 存檔"
   ]
  },
  {
   "cell_type": "code",
   "execution_count": 7,
   "id": "837db6da",
   "metadata": {},
   "outputs": [],
   "source": [
    "#=====儲存RSA分析結果+PCA======\n",
    "import os\n",
    "import numpy as np\n",
    "\n",
    "subject_id = \"subj08\"  # 換成對應的 subject 代碼\n",
    "outdir = f\"./{subject_id}\"\n",
    "\n",
    "# 若資料夾不存在則自動建立\n",
    "os.makedirs(outdir, exist_ok=True)\n",
    "\n",
    "np.save(f\"{outdir}/rsa_correctness_pca.npy\", rsa_correctness)\n",
    "np.save(f\"{outdir}/rsa_clarity_pca.npy\", rsa_clarity)\n",
    "np.save(f\"{outdir}/rsa_hemifield_pca.npy\", rsa_hemifield)\n",
    "np.save(f\"{outdir}/time_centers_trialwise_pca.npy\", time_centers_trialwise)"
   ]
  },
  {
   "cell_type": "markdown",
   "id": "dd4cb04f",
   "metadata": {},
   "source": [
    "## RSA with permutation null distribution testing, p-value and 95% confidence intervals with marked statistical significant regions"
   ]
  },
  {
   "cell_type": "code",
   "execution_count": 8,
   "id": "1d28ab78",
   "metadata": {},
   "outputs": [
    {
     "name": "stderr",
     "output_type": "stream",
     "text": [
      "Permuting:   4%|▎         | 36/1000 [00:06<03:35,  4.47it/s]"
     ]
    },
    {
     "ename": "KeyboardInterrupt",
     "evalue": "",
     "output_type": "error",
     "traceback": [
      "\u001b[0;31m---------------------------------------------------------------------------\u001b[0m",
      "\u001b[0;31mKeyboardInterrupt\u001b[0m                         Traceback (most recent call last)",
      "Cell \u001b[0;32mIn[8], line 35\u001b[0m\n\u001b[1;32m     32\u001b[0m     \u001b[38;5;28;01mreturn\u001b[39;00m np\u001b[38;5;241m.\u001b[39mmean(np\u001b[38;5;241m.\u001b[39mabs(null_distribution) \u001b[38;5;241m>\u001b[39m\u001b[38;5;241m=\u001b[39m np\u001b[38;5;241m.\u001b[39mabs(observed[\u001b[38;5;28;01mNone\u001b[39;00m, :]), axis\u001b[38;5;241m=\u001b[39m\u001b[38;5;241m0\u001b[39m)\n\u001b[1;32m     34\u001b[0m \u001b[38;5;66;03m# ==== 直接用法（其餘不用動）====\u001b[39;00m\n\u001b[0;32m---> 35\u001b[0m rsa_correctness, null_correctness \u001b[38;5;241m=\u001b[39m \u001b[43mpermutation_rsa\u001b[49m\u001b[43m(\u001b[49m\u001b[43mrdms_trialwise_pca\u001b[49m\u001b[43m,\u001b[49m\u001b[43m \u001b[49m\u001b[43mrdm_correctness\u001b[49m\u001b[43m,\u001b[49m\u001b[43m \u001b[49m\u001b[43mn_perm\u001b[49m\u001b[38;5;241;43m=\u001b[39;49m\u001b[38;5;241;43m1000\u001b[39;49m\u001b[43m,\u001b[49m\u001b[43m \u001b[49m\u001b[43mn_jobs\u001b[49m\u001b[38;5;241;43m=\u001b[39;49m\u001b[38;5;241;43m-\u001b[39;49m\u001b[38;5;241;43m1\u001b[39;49m\u001b[43m)\u001b[49m\n\u001b[1;32m     36\u001b[0m ci_lower_correctness, ci_upper_correctness \u001b[38;5;241m=\u001b[39m compute_ci(null_correctness)\n\u001b[1;32m     37\u001b[0m p_values_correctness \u001b[38;5;241m=\u001b[39m compute_p_values(rsa_correctness, null_correctness)\n",
      "Cell \u001b[0;32mIn[8], line 21\u001b[0m, in \u001b[0;36mpermutation_rsa\u001b[0;34m(neural_rdms, behavioral_rdm, n_perm, n_jobs)\u001b[0m\n\u001b[1;32m     19\u001b[0m     shuffled \u001b[38;5;241m=\u001b[39m np\u001b[38;5;241m.\u001b[39mrandom\u001b[38;5;241m.\u001b[39mpermutation(behavioral_rdm\u001b[38;5;241m.\u001b[39mravel())\u001b[38;5;241m.\u001b[39mreshape(behavioral_rdm\u001b[38;5;241m.\u001b[39mshape)\n\u001b[1;32m     20\u001b[0m     \u001b[38;5;28;01mreturn\u001b[39;00m compute_rsa_timecourse(neural_rdms, shuffled)\n\u001b[0;32m---> 21\u001b[0m null_dists \u001b[38;5;241m=\u001b[39m \u001b[43mParallel\u001b[49m\u001b[43m(\u001b[49m\u001b[43mn_jobs\u001b[49m\u001b[38;5;241;43m=\u001b[39;49m\u001b[43mn_jobs\u001b[49m\u001b[43m)\u001b[49m\u001b[43m(\u001b[49m\n\u001b[1;32m     22\u001b[0m \u001b[43m    \u001b[49m\u001b[43mdelayed\u001b[49m\u001b[43m(\u001b[49m\u001b[43msingle_perm\u001b[49m\u001b[43m)\u001b[49m\u001b[43m(\u001b[49m\u001b[43m_\u001b[49m\u001b[43m)\u001b[49m\u001b[43m \u001b[49m\u001b[38;5;28;43;01mfor\u001b[39;49;00m\u001b[43m \u001b[49m\u001b[43m_\u001b[49m\u001b[43m \u001b[49m\u001b[38;5;129;43;01min\u001b[39;49;00m\u001b[43m \u001b[49m\u001b[43mtqdm\u001b[49m\u001b[43m(\u001b[49m\u001b[38;5;28;43mrange\u001b[39;49m\u001b[43m(\u001b[49m\u001b[43mn_perm\u001b[49m\u001b[43m)\u001b[49m\u001b[43m,\u001b[49m\u001b[43m \u001b[49m\u001b[43mdesc\u001b[49m\u001b[38;5;241;43m=\u001b[39;49m\u001b[38;5;124;43m'\u001b[39;49m\u001b[38;5;124;43mPermuting\u001b[39;49m\u001b[38;5;124;43m'\u001b[39;49m\u001b[43m)\u001b[49m\n\u001b[1;32m     23\u001b[0m \u001b[43m\u001b[49m\u001b[43m)\u001b[49m\n\u001b[1;32m     24\u001b[0m \u001b[38;5;28;01mreturn\u001b[39;00m observed, np\u001b[38;5;241m.\u001b[39marray(null_dists)\n",
      "File \u001b[0;32m/opt/anaconda3/envs/EEG/lib/python3.9/site-packages/joblib/parallel.py:2007\u001b[0m, in \u001b[0;36mParallel.__call__\u001b[0;34m(self, iterable)\u001b[0m\n\u001b[1;32m   2001\u001b[0m \u001b[38;5;66;03m# The first item from the output is blank, but it makes the interpreter\u001b[39;00m\n\u001b[1;32m   2002\u001b[0m \u001b[38;5;66;03m# progress until it enters the Try/Except block of the generator and\u001b[39;00m\n\u001b[1;32m   2003\u001b[0m \u001b[38;5;66;03m# reaches the first `yield` statement. This starts the asynchronous\u001b[39;00m\n\u001b[1;32m   2004\u001b[0m \u001b[38;5;66;03m# dispatch of the tasks to the workers.\u001b[39;00m\n\u001b[1;32m   2005\u001b[0m \u001b[38;5;28mnext\u001b[39m(output)\n\u001b[0;32m-> 2007\u001b[0m \u001b[38;5;28;01mreturn\u001b[39;00m output \u001b[38;5;28;01mif\u001b[39;00m \u001b[38;5;28mself\u001b[39m\u001b[38;5;241m.\u001b[39mreturn_generator \u001b[38;5;28;01melse\u001b[39;00m \u001b[38;5;28;43mlist\u001b[39;49m\u001b[43m(\u001b[49m\u001b[43moutput\u001b[49m\u001b[43m)\u001b[49m\n",
      "File \u001b[0;32m/opt/anaconda3/envs/EEG/lib/python3.9/site-packages/joblib/parallel.py:1650\u001b[0m, in \u001b[0;36mParallel._get_outputs\u001b[0;34m(self, iterator, pre_dispatch)\u001b[0m\n\u001b[1;32m   1647\u001b[0m     \u001b[38;5;28;01myield\u001b[39;00m\n\u001b[1;32m   1649\u001b[0m     \u001b[38;5;28;01mwith\u001b[39;00m \u001b[38;5;28mself\u001b[39m\u001b[38;5;241m.\u001b[39m_backend\u001b[38;5;241m.\u001b[39mretrieval_context():\n\u001b[0;32m-> 1650\u001b[0m         \u001b[38;5;28;01myield from\u001b[39;00m \u001b[38;5;28mself\u001b[39m\u001b[38;5;241m.\u001b[39m_retrieve()\n\u001b[1;32m   1652\u001b[0m \u001b[38;5;28;01mexcept\u001b[39;00m \u001b[38;5;167;01mGeneratorExit\u001b[39;00m:\n\u001b[1;32m   1653\u001b[0m     \u001b[38;5;66;03m# The generator has been garbage collected before being fully\u001b[39;00m\n\u001b[1;32m   1654\u001b[0m     \u001b[38;5;66;03m# consumed. This aborts the remaining tasks if possible and warn\u001b[39;00m\n\u001b[1;32m   1655\u001b[0m     \u001b[38;5;66;03m# the user if necessary.\u001b[39;00m\n\u001b[1;32m   1656\u001b[0m     \u001b[38;5;28mself\u001b[39m\u001b[38;5;241m.\u001b[39m_exception \u001b[38;5;241m=\u001b[39m \u001b[38;5;28;01mTrue\u001b[39;00m\n",
      "File \u001b[0;32m/opt/anaconda3/envs/EEG/lib/python3.9/site-packages/joblib/parallel.py:1762\u001b[0m, in \u001b[0;36mParallel._retrieve\u001b[0;34m(self)\u001b[0m\n\u001b[1;32m   1757\u001b[0m \u001b[38;5;66;03m# If the next job is not ready for retrieval yet, we just wait for\u001b[39;00m\n\u001b[1;32m   1758\u001b[0m \u001b[38;5;66;03m# async callbacks to progress.\u001b[39;00m\n\u001b[1;32m   1759\u001b[0m \u001b[38;5;28;01mif\u001b[39;00m ((\u001b[38;5;28mlen\u001b[39m(\u001b[38;5;28mself\u001b[39m\u001b[38;5;241m.\u001b[39m_jobs) \u001b[38;5;241m==\u001b[39m \u001b[38;5;241m0\u001b[39m) \u001b[38;5;129;01mor\u001b[39;00m\n\u001b[1;32m   1760\u001b[0m     (\u001b[38;5;28mself\u001b[39m\u001b[38;5;241m.\u001b[39m_jobs[\u001b[38;5;241m0\u001b[39m]\u001b[38;5;241m.\u001b[39mget_status(\n\u001b[1;32m   1761\u001b[0m         timeout\u001b[38;5;241m=\u001b[39m\u001b[38;5;28mself\u001b[39m\u001b[38;5;241m.\u001b[39mtimeout) \u001b[38;5;241m==\u001b[39m TASK_PENDING)):\n\u001b[0;32m-> 1762\u001b[0m     \u001b[43mtime\u001b[49m\u001b[38;5;241;43m.\u001b[39;49m\u001b[43msleep\u001b[49m\u001b[43m(\u001b[49m\u001b[38;5;241;43m0.01\u001b[39;49m\u001b[43m)\u001b[49m\n\u001b[1;32m   1763\u001b[0m     \u001b[38;5;28;01mcontinue\u001b[39;00m\n\u001b[1;32m   1765\u001b[0m \u001b[38;5;66;03m# We need to be careful: the job list can be filling up as\u001b[39;00m\n\u001b[1;32m   1766\u001b[0m \u001b[38;5;66;03m# we empty it and Python list are not thread-safe by\u001b[39;00m\n\u001b[1;32m   1767\u001b[0m \u001b[38;5;66;03m# default hence the use of the lock\u001b[39;00m\n",
      "\u001b[0;31mKeyboardInterrupt\u001b[0m: "
     ]
    },
    {
     "name": "stderr",
     "output_type": "stream",
     "text": [
      "Permuting:   4%|▎         | 36/1000 [00:21<03:35,  4.47it/s]"
     ]
    }
   ],
   "source": [
    "# === Step 5: RSA 分析平行處理+單側三角+PCA ===\n",
    "from scipy.stats import spearmanr\n",
    "import numpy as np\n",
    "from tqdm import tqdm\n",
    "from joblib import Parallel, delayed\n",
    "\n",
    "def compute_rsa_timecourse(neural_rdms, behavioral_rdm):\n",
    "    behavioral_flat = behavioral_rdm[np.triu_indices_from(behavioral_rdm, k=1)]\n",
    "    return np.array([\n",
    "        spearmanr(rdm[np.triu_indices_from(rdm, k=1)], behavioral_flat).correlation\n",
    "        for rdm in neural_rdms\n",
    "    ])\n",
    "\n",
    "# === 多核加速 permutation_rsa ===\n",
    "def permutation_rsa(neural_rdms, behavioral_rdm, n_perm=1000, n_jobs=-1):\n",
    "    observed = compute_rsa_timecourse(neural_rdms, behavioral_rdm)\n",
    "    # 平行化每個 permutation\n",
    "    def single_perm(_):\n",
    "        shuffled = np.random.permutation(behavioral_rdm.ravel()).reshape(behavioral_rdm.shape)\n",
    "        return compute_rsa_timecourse(neural_rdms, shuffled)\n",
    "    null_dists = Parallel(n_jobs=n_jobs)(\n",
    "        delayed(single_perm)(_) for _ in tqdm(range(n_perm), desc='Permuting')\n",
    "    )\n",
    "    return observed, np.array(null_dists)\n",
    "\n",
    "def compute_ci(null_distribution, ci=95):\n",
    "    lower = np.percentile(null_distribution, (100 - ci) / 2, axis=0)\n",
    "    upper = np.percentile(null_distribution, 100 - (100 - ci) / 2, axis=0)\n",
    "    return lower, upper\n",
    "\n",
    "def compute_p_values(observed, null_distribution):\n",
    "    return np.mean(np.abs(null_distribution) >= np.abs(observed[None, :]), axis=0)\n",
    "\n",
    "# ==== 直接用法（其餘不用動）====\n",
    "rsa_correctness, null_correctness = permutation_rsa(rdms_trialwise_pca, rdm_correctness, n_perm=1000, n_jobs=-1)\n",
    "ci_lower_correctness, ci_upper_correctness = compute_ci(null_correctness)\n",
    "p_values_correctness = compute_p_values(rsa_correctness, null_correctness)\n",
    "\n",
    "rsa_clarity, null_clarity = permutation_rsa(rdms_trialwise_pca, rdm_clarity, n_perm=1000, n_jobs=-1)\n",
    "ci_lower_clarity, ci_upper_clarity = compute_ci(null_clarity)\n",
    "p_values_clarity = compute_p_values(rsa_clarity, null_clarity)\n",
    "\n",
    "rsa_hemifield, null_hemifield = permutation_rsa(rdms_trialwise_pca, rdm_hemifield, n_perm=1000, n_jobs=-1)\n",
    "ci_lower_hemifield, ci_upper_hemifield = compute_ci(null_hemifield)\n",
    "p_values_hemifield = compute_p_values(rsa_hemifield, null_hemifield)\n"
   ]
  },
  {
   "cell_type": "code",
   "execution_count": null,
   "id": "b806a7be",
   "metadata": {},
   "outputs": [
    {
     "data": {
      "application/vnd.jupyter.widget-view+json": {
       "model_id": "0af48383ff7b4c6ab53539908aec458f",
       "version_major": 2,
       "version_minor": 0
      },
      "text/plain": [
       "interactive(children=(Dropdown(description='Select RDM:', options=('Correctness', 'Clarity', 'Hemifield'), val…"
      ]
     },
     "metadata": {},
     "output_type": "display_data"
    },
    {
     "name": "stdout",
     "output_type": "stream",
     "text": [
      "✅ 完成整合：包含 permutation test 與交互式 RSA 可視化！\n"
     ]
    }
   ],
   "source": [
    "# === Step 6: 互動式視覺化 RSA 結果+PCA ===\n",
    "def plot_interactive_rsa_pca_comparison(time_points, rsa_dict, ci_dict=None, pval_dict=None):\n",
    "    dropdown = widgets.Dropdown(\n",
    "        options=list(rsa_dict.keys()),\n",
    "        value=list(rsa_dict.keys())[0],\n",
    "        description=\"Select RDM:\"\n",
    "    )\n",
    "\n",
    "    def update_plot(rdm_name):\n",
    "        y = rsa_dict[rdm_name]\n",
    "        fig = go.Figure()\n",
    "        fig.add_trace(go.Scatter(x=time_points, y=y, mode='lines', name='RSA'))\n",
    "\n",
    "        if ci_dict:\n",
    "            lower, upper = ci_dict[rdm_name]\n",
    "            fig.add_trace(go.Scatter(x=time_points, y=upper, mode='lines', name='Upper CI', line=dict(dash='dash')))\n",
    "            fig.add_trace(go.Scatter(x=time_points, y=lower, mode='lines', name='Lower CI', line=dict(dash='dash')))\n",
    "            fig.add_trace(go.Scatter(x=np.concatenate([time_points, time_points[::-1]]),\n",
    "                                     y=np.concatenate([lower, upper[::-1]]),\n",
    "                                     fill='toself', fillcolor='rgba(0,100,80,0.2)', line=dict(color='rgba(255,255,255,0)'),\n",
    "                                     name='95% CI'))\n",
    "\n",
    "        if pval_dict:\n",
    "            sig_mask = pval_dict[rdm_name] < 0.05\n",
    "            fig.add_trace(go.Scatter(\n",
    "                x=time_points[sig_mask],\n",
    "                y=[y[i] for i in range(len(y)) if sig_mask[i]],\n",
    "                mode='markers', marker=dict(color='red', size=6),\n",
    "                name='p < .05'))\n",
    "                        # ➤ 最早顯著點\n",
    "            if np.any(sig_mask):\n",
    "                first_sig_idx = np.where(sig_mask)[0][0]\n",
    "                first_sig_time = time_points[first_sig_idx]\n",
    "                fig.add_vline(\n",
    "                    x=first_sig_time,\n",
    "                    line=dict(dash='dot', color='black'),\n",
    "                    annotation_text=f\"First sig: {first_sig_time*1000:.0f} ms\",\n",
    "                    annotation_position=\"top left\"\n",
    "                )\n",
    "                    # ➤ 時間 0s 之後第一個顯著點\n",
    "                post_zero_mask = sig_mask & (time_points > 0)\n",
    "                if np.any(post_zero_mask):\n",
    "                    post_zero_idx = np.where(post_zero_mask)[0][0]\n",
    "                    post_zero_time = time_points[post_zero_idx]\n",
    "                    fig.add_vline(\n",
    "                        x=post_zero_time,\n",
    "                        line=dict(dash='dot', color='orange'),\n",
    "                        annotation_text=f\"1st sig after 0: {post_zero_time*1000:.0f} ms\",\n",
    "                        annotation_position=\"bottom left\"\n",
    "                    )\n",
    "                    \n",
    "            # ➤ 最大 effect size 點\n",
    "            max_idx = np.argmax(np.abs(y))  # 最大正負皆可\n",
    "            max_time = time_points[max_idx]\n",
    "            fig.add_vline(\n",
    "                x=max_time,\n",
    "                line=dict(dash='dashdot', color='blue'),\n",
    "                annotation_text=f\"Max effect: {max_time*1000:.0f} ms\",\n",
    "                annotation_position=\"top right\"\n",
    "            )\n",
    "            \n",
    "        fig.update_layout(\n",
    "            title=f\"RSA(PCA): {rdm_name}\",\n",
    "            xaxis_title=\"Time (s)\",\n",
    "            yaxis_title=\"RSA Correlation (Spearman)\",\n",
    "            width=800, height=500)\n",
    "        fig.show()\n",
    "\n",
    "    widgets.interact(update_plot, rdm_name=dropdown)\n",
    "\n",
    "plot_interactive_rsa_pca_comparison(\n",
    "    time_points=time_centers_trialwise,\n",
    "    rsa_dict={\n",
    "        \"Correctness\": rsa_correctness,\n",
    "        \"Clarity\": rsa_clarity,\n",
    "        \"Hemifield\": rsa_hemifield\n",
    "    },\n",
    "    ci_dict={\n",
    "        \"Correctness\": (ci_lower_correctness, ci_upper_correctness),\n",
    "        \"Clarity\": (ci_lower_clarity, ci_upper_clarity),\n",
    "        \"Hemifield\": (ci_lower_hemifield, ci_upper_hemifield)\n",
    "    },\n",
    "    pval_dict={\n",
    "        \"Correctness\": p_values_correctness,\n",
    "        \"Clarity\": p_values_clarity,\n",
    "        \"Hemifield\": p_values_hemifield\n",
    "    }\n",
    ")\n",
    "\n",
    "print(\"✅ 完成整合：包含 permutation test 與交互式 RSA 可視化！\")"
   ]
  },
  {
   "cell_type": "markdown",
   "id": "3c750500",
   "metadata": {},
   "source": [
    "# Split-half reliability"
   ]
  },
  {
   "cell_type": "code",
   "execution_count": null,
   "id": "e7bc1055",
   "metadata": {},
   "outputs": [],
   "source": [
    "# Step 5: Split-half reliability（信度）不支援多核心加速\n",
    "def compute_split_half_reliability(data, labels, times, sfreq, bin_ms=50, explained_var=0.99, n_repeats=50):\n",
    "    bin_samples = int(sfreq * bin_ms / 1000)\n",
    "    n_times = data.shape[2]\n",
    "    n_bins = n_times - bin_samples + 1\n",
    "\n",
    "    reliabilities = []\n",
    "\n",
    "    for start in tqdm(range(n_bins), desc=\"Split-half reliability\"):\n",
    "        end = start + bin_samples\n",
    "        X = data[:, :, start:end].reshape(len(data), -1)\n",
    "\n",
    "        corr_list = []\n",
    "        for _ in range(n_repeats):\n",
    "            perm = np.random.permutation(len(labels))\n",
    "            half = len(labels) // 2\n",
    "            idx1, idx2 = perm[:half], perm[half:]\n",
    "            X1, X2 = X[idx1], X[idx2]\n",
    "\n",
    "            # 分別對兩半做PCA（或可只對第一半fit pca，再transform第二半）\n",
    "            pca = PCA()\n",
    "            X1_pca = pca.fit_transform(X1)\n",
    "            n_components = np.argmax(np.cumsum(pca.explained_variance_ratio_) >= explained_var) + 1\n",
    "            X1_pca = X1_pca[:, :n_components]\n",
    "            X2_pca = pca.transform(X2)[:, :n_components]\n",
    "\n",
    "            # 計算split-half的RDM\n",
    "            if X1_pca.shape[0] < 2 or X2_pca.shape[0] < 2:\n",
    "                continue\n",
    "            rdm1 = 1 - np.corrcoef(X1_pca)\n",
    "            rdm2 = 1 - np.corrcoef(X2_pca)\n",
    "\n",
    "            # 展平成一維，做相關係數（去掉對角線）\n",
    "            idx_flat = np.triu_indices_from(rdm1, k=1)\n",
    "            flat1 = rdm1[idx_flat]\n",
    "            flat2 = rdm2[idx_flat]\n",
    "            corr = spearmanr(flat1, flat2).correlation\n",
    "            corr_list.append(corr)\n",
    "        if len(corr_list) > 0:\n",
    "            reliabilities.append(np.mean(corr_list))\n",
    "        else:\n",
    "            reliabilities.append(np.nan)\n",
    "    return np.array(reliabilities)\n",
    "\n",
    "# 計算 split-half reliability\n",
    "\n",
    "reliabilities = compute_split_half_reliability(data, labels, times, sfreq, bin_ms=50, explained_var=0.99, n_repeats=50)\n",
    "print(\"✅ Split-half reliability 計算完成！\")\n",
    "\n",
    "# Step 6: 視覺化（舉例：reliability 隨時間變化）\n",
    "plt.figure(figsize=(10,4))\n",
    "plt.plot(time_centers_trialwise, reliabilities)\n",
    "plt.xlabel(\"Time (s)\")\n",
    "plt.ylabel(\"Split-half reliability (Spearman)\")\n",
    "plt.title(\"Neural RDM Split-half Reliability over Time\")\n",
    "plt.show()"
   ]
  },
  {
   "cell_type": "code",
   "execution_count": null,
   "id": "8e0805a3",
   "metadata": {},
   "outputs": [],
   "source": [
    "# 輸出指定時間reliability\n",
    "\n",
    "print(f\"Time bin 100 的 split-half reliability: {reliabilities[100]:.3f}\")\n",
    "\n",
    "# print out all\n",
    "print(\"每個 time bin 的 split-half reliability 值：\")\n",
    "for t, r in zip(time_centers_trialwise, reliabilities):\n",
    "    print(f\"Time {t:.3f} s:  reliability = {r:.3f}\")\n",
    "\n",
    "print(f\"\\n--- Summary ---\")\n",
    "print(f\"Mean reliability: {np.nanmean(reliabilities):.4f}\")\n",
    "print(f\"Max reliability: {np.nanmax(reliabilities):.4f}\")\n",
    "print(f\"Min reliability: {np.nanmin(reliabilities):.4f}\")"
   ]
  },
  {
   "cell_type": "code",
   "execution_count": null,
   "id": "58ed6738",
   "metadata": {},
   "outputs": [],
   "source": [
    "# Step 5: Split-half reliability（信度）支援多核心加速\n",
    "import numpy as np\n",
    "import matplotlib.pyplot as plt\n",
    "from tqdm.notebook import tqdm\n",
    "from sklearn.decomposition import PCA\n",
    "from scipy.stats import spearmanr\n",
    "import ipywidgets as widgets\n",
    "\n",
    "try:\n",
    "    from joblib import Parallel, delayed\n",
    "    JOBLIB_AVAILABLE = True\n",
    "except ImportError:\n",
    "    JOBLIB_AVAILABLE = False\n",
    "\n",
    "# === Split-half reliability function (single-bin) ===\n",
    "def compute_single_bin_reliability(X, n_trials, explained_var=0.99, n_repeats=50):\n",
    "    corrs = []\n",
    "    for _ in range(n_repeats):\n",
    "        perm = np.random.permutation(n_trials)\n",
    "        half = n_trials // 2\n",
    "        idx1, idx2 = perm[:half], perm[half:]\n",
    "        X1, X2 = X[idx1], X[idx2]\n",
    "        pca = PCA()\n",
    "        X1_pca = pca.fit_transform(X1)\n",
    "        n_components = np.argmax(np.cumsum(pca.explained_variance_ratio_) >= explained_var) + 1\n",
    "        X1_pca = X1_pca[:, :n_components]\n",
    "        X2_pca = pca.transform(X2)[:, :n_components]\n",
    "        if X1_pca.shape[0] < 2 or X2_pca.shape[0] < 2:\n",
    "            continue\n",
    "        rdm1 = 1 - np.corrcoef(X1_pca)\n",
    "        rdm2 = 1 - np.corrcoef(X2_pca)\n",
    "        idx_flat = np.triu_indices_from(rdm1, k=1)\n",
    "        flat1 = rdm1[idx_flat]\n",
    "        flat2 = rdm2[idx_flat]\n",
    "        corr = spearmanr(flat1, flat2).correlation\n",
    "        corrs.append(corr)\n",
    "    return np.nanmean(corrs) if len(corrs) else np.nan\n",
    "\n",
    "# === Split-half reliability computation (with parallel option) ===\n",
    "def compute_split_half_reliability(\n",
    "    data, times, sfreq, bin_ms=50, explained_var=0.99, n_repeats=50, n_jobs=1, use_parallel=True\n",
    "):\n",
    "    bin_samples = int(sfreq * bin_ms / 1000)\n",
    "    n_times = data.shape[2]\n",
    "    n_bins = n_times - bin_samples + 1\n",
    "    n_trials = data.shape[0]\n",
    "    def process_one_bin(start):\n",
    "        end = start + bin_samples\n",
    "        X = data[:, :, start:end].reshape(n_trials, -1)\n",
    "        return compute_single_bin_reliability(X, n_trials, explained_var, n_repeats)\n",
    "\n",
    "    if use_parallel and JOBLIB_AVAILABLE and n_jobs != 1:\n",
    "        from joblib import Parallel, delayed\n",
    "        reliabilities = Parallel(n_jobs=n_jobs)(\n",
    "            delayed(process_one_bin)(start) for start in tqdm(range(n_bins), desc=f\"Rel. (PCA={explained_var:.2f})\")\n",
    "        )\n",
    "    else:\n",
    "        reliabilities = [process_one_bin(start) for start in tqdm(range(n_bins), desc=f\"Rel. (PCA={explained_var:.2f})\")]\n",
    "    return np.array(reliabilities)\n",
    "\n",
    "# === Example usage ===\n",
    "reliabilities = compute_split_half_reliability(data, times, sfreq, bin_ms=50, explained_var=0.99, n_repeats=50, n_jobs=-1, use_parallel=True)"
   ]
  },
  {
   "cell_type": "code",
   "execution_count": null,
   "id": "79302dfc",
   "metadata": {},
   "outputs": [],
   "source": [
    "# === Interactive summary plot ===\n",
    "def plot_interactive_reliability_summary(time_axis, reliability_curves, sig_level=0.2, stim_onset_time=0.0):\n",
    "    options = list(reliability_curves.keys())\n",
    "    min_len = min([len(v) for v in reliability_curves.values()])\n",
    "    zero_locked_times = time_axis[:min_len] - stim_onset_time\n",
    "    \n",
    "    dropdown = widgets.Dropdown(options=options, value=options[0], description='PCA條件:')\n",
    "    slider = widgets.IntSlider(min=0, max=min_len-1, value=0, step=1, description='Time bin')\n",
    "\n",
    "    def update(curve_key, bin_idx):\n",
    "        rel = reliability_curves[curve_key][:min_len]\n",
    "        t = zero_locked_times\n",
    "\n",
    "        max_idx = np.nanargmax(rel)\n",
    "        min_idx = np.nanargmin(rel)\n",
    "        sig_mask = rel > sig_level\n",
    "\n",
    "        plt.figure(figsize=(12, 5))\n",
    "        plt.plot(t, rel, linewidth=2, label='Reliability curve')\n",
    "        plt.axhline(0, color='gray', linestyle='--', alpha=0.5)\n",
    "        plt.axvline(0, color='orange', linestyle='--', label='Stimulus onset')\n",
    "        # 選中時間點\n",
    "        plt.scatter([t[bin_idx]], [rel[bin_idx]], color='red', s=100, label='Selected')\n",
    "        # 顯著性點\n",
    "        if np.any(sig_mask):\n",
    "            plt.scatter(t[sig_mask], rel[sig_mask], color='red', s=30, label=f'> {sig_level} sig.', alpha=0.7)\n",
    "        # 最大最小\n",
    "        plt.scatter([t[max_idx]], [rel[max_idx]], color='blue', s=80, label=f'Max: {rel[max_idx]:.3f}')\n",
    "        plt.text(t[max_idx], rel[max_idx], f\"Max: {rel[max_idx]:.3f}\", fontsize=11, color='blue', va='bottom', ha='right')\n",
    "        plt.scatter([t[min_idx]], [rel[min_idx]], color='purple', s=80, label=f'Min: {rel[min_idx]:.3f}')\n",
    "        plt.text(t[min_idx], rel[min_idx], f\"Min: {rel[min_idx]:.3f}\", fontsize=11, color='purple', va='top', ha='left')\n",
    "\n",
    "        plt.xlabel('Time (s, stimulus onset at 0)')\n",
    "        plt.ylabel('Split-half reliability')\n",
    "        plt.title(f'Split-half Reliability ({curve_key}), Bin {bin_idx} ({t[bin_idx]:.3f}s)')\n",
    "        plt.legend()\n",
    "        plt.tight_layout()\n",
    "        plt.show()\n",
    "\n",
    "        # print summary\n",
    "        print(f\"Selected time: {t[bin_idx]:.3f}s, reliability: {rel[bin_idx]:.4f}\")\n",
    "        print(f\"Max reliability: {rel[max_idx]:.4f} at {t[max_idx]:.3f} s\")\n",
    "        print(f\"Min reliability: {rel[min_idx]:.4f} at {t[min_idx]:.3f} s\")\n",
    "        if np.any(sig_mask):\n",
    "            sig_times = t[sig_mask]\n",
    "            print(f\"Significant (>{sig_level}) bins at:\")\n",
    "            print(\", \".join([f\"{s:.3f}s\" for s in sig_times]))\n",
    "        else:\n",
    "            print(f\"No bins above significance threshold ({sig_level}).\")\n",
    "\n",
    "    widgets.interact(update, curve_key=dropdown, bin_idx=slider)\n",
    "\n",
    "# ======= How to use the pipeline =======\n",
    "# 計算多種 PCA 條件的 split-half reliability 曲線\n",
    "explained_var_list = [0.90, 0.95, 0.99]\n",
    "reliability_curves = {}\n",
    "for expv in explained_var_list:\n",
    "    reliability_curves[f\"PCA {expv:.2f}\"] = compute_split_half_reliability(\n",
    "        data, times, sfreq, bin_ms=50, explained_var=expv, n_repeats=50, n_jobs=-1, use_parallel=True)"
   ]
  }
 ],
 "metadata": {
  "kernelspec": {
   "display_name": "EEG",
   "language": "python",
   "name": "python3"
  },
  "language_info": {
   "codemirror_mode": {
    "name": "ipython",
    "version": 3
   },
   "file_extension": ".py",
   "mimetype": "text/x-python",
   "name": "python",
   "nbconvert_exporter": "python",
   "pygments_lexer": "ipython3",
   "version": "3.9.7"
  }
 },
 "nbformat": 4,
 "nbformat_minor": 5
}
